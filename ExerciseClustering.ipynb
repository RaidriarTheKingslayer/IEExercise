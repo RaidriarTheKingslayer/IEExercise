{
 "cells": [
  {
   "cell_type": "markdown",
   "metadata": {},
   "source": [
    "# Clustering Activity"
   ]
  },
  {
   "cell_type": "code",
   "execution_count": 1,
   "metadata": {},
   "outputs": [],
   "source": [
    "# Import necessary libraries\n",
    "from sklearn.datasets import make_blobs\n",
    "from sklearn.cluster import KMeans, AgglomerativeClustering, SpectralClustering\n",
    "from skfuzzy.cluster import cmeans\n",
    "from sklearn.metrics import adjusted_rand_score, silhouette_score\n",
    "import numpy as np\n",
    "\n",
    "# Generate a hypothetical dataset\n",
    "X, y_true = make_blobs(n_samples=1000, centers=4, random_state=42, cluster_std=3.0)"
   ]
  },
  {
   "cell_type": "markdown",
   "metadata": {},
   "source": [
    "Exercise: Evaluate four clustering algorithms (K-Means, Fuzzy C-Means, Spectral, and Agglomerative)\n",
    "1. Apply each clustering algorithm to the dataset where:\n",
    "- cluster_count = 4\n",
    "- random_state = 42 (where applicable)\n",
    "- do not specify affinity, metric, algo, init, linkage (if applicable)\n",
    "2. Use the **Adjusted Rand index** and **Silhouette Score** to evaluate the clustering performance.\n",
    "3. Compare the performance of the algorithms based on the aforementioned metrics and decide which algorithm is best suited for the data given."
   ]
  },
  {
   "cell_type": "code",
   "execution_count": 2,
   "metadata": {},
   "outputs": [],
   "source": [
    "# code here..."
   ]
  },
  {
   "cell_type": "code",
   "execution_count": 3,
   "metadata": {},
   "outputs": [],
   "source": [
    "cluster_count = 4\n",
    "random_state = 42"
   ]
  },
  {
   "cell_type": "code",
   "execution_count": 4,
   "metadata": {},
   "outputs": [],
   "source": [
    "# K-Means\n",
    "kmeans = KMeans(n_clusters=cluster_count, random_state=random_state, n_init=10, max_iter=1000)\n",
    "kmeans_labels = kmeans.fit_predict(X)"
   ]
  },
  {
   "cell_type": "code",
   "execution_count": 5,
   "metadata": {},
   "outputs": [],
   "source": [
    "# Spectral Clustering\n",
    "spectral_clustering = SpectralClustering(n_clusters=cluster_count, random_state=random_state, n_neighbors=10)\n",
    "spectral_labels = spectral_clustering.fit_predict(X)"
   ]
  },
  {
   "cell_type": "code",
   "execution_count": 6,
   "metadata": {},
   "outputs": [],
   "source": [
    "# Agglomerative Clustering\n",
    "agglomerative_clustering = AgglomerativeClustering(n_clusters=cluster_count)\n",
    "agglomerative_labels = agglomerative_clustering.fit_predict(X)"
   ]
  },
  {
   "cell_type": "code",
   "execution_count": 7,
   "metadata": {},
   "outputs": [],
   "source": [
    "average_labels = np.mean([kmeans_labels, spectral_labels, agglomerative_labels], axis=0)"
   ]
  },
  {
   "cell_type": "code",
   "execution_count": 8,
   "metadata": {},
   "outputs": [],
   "source": [
    "fcm = cmeans(X, c=cluster_count, m=2, error=0.005, maxiter=1000)\n",
    "fcm_labels = np.argmax(fcm[0], axis=1)"
   ]
  },
  {
   "cell_type": "code",
   "execution_count": 9,
   "metadata": {},
   "outputs": [
    {
     "name": "stderr",
     "output_type": "stream",
     "text": [
      "C:\\Users\\kevin\\Desktop\\IntelligentSystem\\IEVenv\\Lib\\site-packages\\sklearn\\metrics\\cluster\\_supervised.py:66: UserWarning: Clustering metrics expects discrete values but received multiclass values for label, and continuous values for target\n",
      "  warnings.warn(msg, UserWarning)\n"
     ]
    }
   ],
   "source": [
    "silhouette_scores = {\n",
    "    'KMeans': silhouette_score(X, kmeans_labels),\n",
    "    'Fuzzy C-Means': silhouette_score(X, average_labels),\n",
    "    'Spectral Clustering': silhouette_score(X, spectral_labels),\n",
    "    'Agglomerative Clustering': silhouette_score(X, agglomerative_labels),\n",
    "}\n",
    "\n",
    "ari_scores = {\n",
    "    'KMeans': adjusted_rand_score(y_true, kmeans_labels),\n",
    "    'Fuzzy C-Means': adjusted_rand_score(y_true, average_labels),\n",
    "    'Spectral Clustering': adjusted_rand_score(y_true, spectral_labels),\n",
    "    'Agglomerative Clustering': adjusted_rand_score(y_true, agglomerative_labels),\n",
    "}"
   ]
  },
  {
   "cell_type": "code",
   "execution_count": 10,
   "metadata": {},
   "outputs": [
    {
     "name": "stdout",
     "output_type": "stream",
     "text": [
      "Adjusted Rand Index:\n",
      "KMeans: 0.7645768468484858\n",
      "Fuzzy C-Means: 0.4788789093552861\n",
      "Spectral Clustering: 0.6405186110096376\n",
      "Agglomerative Clustering: 0.640307343092939\n",
      "\n",
      "Silhouette Score:\n",
      "KMeans: 0.4671480417353004\n",
      "Fuzzy C-Means: -0.03838142872719743\n",
      "Spectral Clustering: 0.4668562547059353\n",
      "Agglomerative Clustering: 0.41900657021234533\n"
     ]
    }
   ],
   "source": [
    "print('Adjusted Rand Index:')\n",
    "for algorithm, score in ari_scores.items():\n",
    "    print(f'{algorithm}: {score}')\n",
    "\n",
    "print('\\nSilhouette Score:')\n",
    "for algorithm, score in silhouette_scores.items():\n",
    "    print(f'{algorithm}: {score}')"
   ]
  },
  {
   "cell_type": "code",
   "execution_count": null,
   "metadata": {},
   "outputs": [],
   "source": []
  }
 ],
 "metadata": {
  "kernelspec": {
   "display_name": "Python 3 (ipykernel)",
   "language": "python",
   "name": "python3"
  },
  "language_info": {
   "codemirror_mode": {
    "name": "ipython",
    "version": 3
   },
   "file_extension": ".py",
   "mimetype": "text/x-python",
   "name": "python",
   "nbconvert_exporter": "python",
   "pygments_lexer": "ipython3",
   "version": "3.11.5"
  }
 },
 "nbformat": 4,
 "nbformat_minor": 4
}
